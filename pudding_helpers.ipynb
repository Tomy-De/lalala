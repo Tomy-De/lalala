{
 "cells": [
  {
   "cell_type": "code",
   "execution_count": 1,
   "metadata": {
    "collapsed": true
   },
   "outputs": [],
   "source": [
    "%matplotlib inline\n",
    "from __future__ import division\n",
    "import os\n",
    "import pandas as pd\n",
    "import numpy as np\n",
    "from matplotlib import pyplot as plt\n",
    "import re\n",
    "import math\n",
    "from adjustText import adjust_text\n",
    "\n",
    "import common\n",
    "import notebook_helpers\n",
    "\n",
    "FS = (10, 7)\n",
    "\n",
    "om = notebook_helpers.get_frame()\n",
    "lyrs = lyr = notebook_helpers.get_frame(having_lyrics=True)"
   ]
  },
  {
   "cell_type": "code",
   "execution_count": 70,
   "metadata": {
    "collapsed": true
   },
   "outputs": [],
   "source": [
    "import json\n",
    "def to_js(df, fname, varname=\"DATA\", pprint=1):\n",
    "    json_str = df.to_json(None, orient='records')\n",
    "    if pprint:\n",
    "        json_str = json_str.replace('},', '},\\n  ')\n",
    "    _json_str_to_js(json_str, fname, varname)\n",
    "    \n",
    "def dict_to_js(d, fname, varname=\"DATA\", pprint=1):\n",
    "    s = json.dumps(d, indent=(2 if pprint else None))\n",
    "    _json_str_to_js(s, fname, varname)\n",
    "    \n",
    "def _json_str_to_js(json_str, fname, varname):\n",
    "    if not fname.endswith('.js'):\n",
    "        fname += '.js'\n",
    "    with open(fname, 'w') as f:\n",
    "        f.write('var {} = '.format(varname))\n",
    "        f.write(json_str)\n",
    "        f.write(';\\nexport default {};'.format(varname))\n",
    "    print \"Wrote results to {}\".format(fname)\n",
    "    os.system('cp {} ~/src/lalala/src/js/'.format(fname))"
   ]
  },
  {
   "cell_type": "code",
   "execution_count": 77,
   "metadata": {
    "collapsed": false
   },
   "outputs": [
    {
     "name": "stdout",
     "output_type": "stream",
     "text": [
      "Wrote results to years.js\n"
     ]
    }
   ],
   "source": [
    "# Data for the repetition over the years chart\n",
    "from scipy.stats import hmean\n",
    "bookends = 2 # how many years to take off front and back\n",
    "window_size = 3\n",
    "rolling = 1\n",
    "# Harmonic mean made sense when using ratios, but since we're now using 'rscores', which are\n",
    "# in log space, we can just use the arithmetic mean.\n",
    "use_harmonic_mean = 0\n",
    "ihit = lyrs['peak'] <= 10\n",
    "def movingaverage(interval, window_size):\n",
    "    window = np.ones(int(window_size))/float(window_size)\n",
    "    return np.convolve(interval, window, 'same')\n",
    "\n",
    "if use_harmonic_mean:\n",
    "    mean_per_year = lyrs.groupby('year')['rscore'].apply(hmean)\n",
    "else:\n",
    "    mean_per_year = lyrs.groupby('year')['rscore'].mean()\n",
    "if rolling:\n",
    "    y = movingaverage(mean_per_year.values, window_size)\n",
    "else:\n",
    "    y = mean_per_year.values\n",
    "yrs = mean_per_year.index.values\n",
    "frame = np.stack([yrs, y]).T\n",
    "ot = pd.DataFrame(frame, columns=['year', 'rscore'])\n",
    "\n",
    "\n",
    "if use_harmonic_mean:\n",
    "    mean_per_year = lyrs[ihit].groupby('year')['rscore'].apply(hmean)\n",
    "else:\n",
    "    mean_per_year = lyrs[ihit].groupby('year')['rscore'].mean()\n",
    "mean_per_year = mean_per_year.loc[yrs]\n",
    "if rolling:\n",
    "    y = movingaverage(mean_per_year.values, window_size)\n",
    "else:\n",
    "    y = mean_per_year.values\n",
    "ot['hitsRscore'] = y\n",
    "ot  = ot.set_index('year')\n",
    "\n",
    "\n",
    "# Get each year's most repetitive song. I hate pandas.\n",
    "idm = lyrs.groupby('year')['rscore'].idxmax()\n",
    "mostrep = lyrs.ix[idm,['year', 'artist', 'title', 'rscore']]\n",
    "mos = mostrep.set_index('year')\n",
    "dat = []\n",
    "\n",
    "for y in yrs[bookends:-bookends]:\n",
    "    row = ot.loc[y].to_dict()\n",
    "    row['year'] = y\n",
    "    row['topsong'] = mos.loc[y].to_dict()\n",
    "    dat.append(row)\n",
    "\n",
    "dict_to_js(dat, 'years.js', varname='DATA')"
   ]
  },
  {
   "cell_type": "code",
   "execution_count": 78,
   "metadata": {
    "collapsed": false
   },
   "outputs": [
    {
     "data": {
      "text/html": [
       "<div>\n",
       "<table border=\"1\" class=\"dataframe\">\n",
       "  <thead>\n",
       "    <tr style=\"text-align: right;\">\n",
       "      <th></th>\n",
       "      <th>rscore</th>\n",
       "      <th>hitsRscore</th>\n",
       "    </tr>\n",
       "    <tr>\n",
       "      <th>year</th>\n",
       "      <th></th>\n",
       "      <th></th>\n",
       "    </tr>\n",
       "  </thead>\n",
       "  <tbody>\n",
       "    <tr>\n",
       "      <th>2013.0</th>\n",
       "      <td>1.144306</td>\n",
       "      <td>1.259210</td>\n",
       "    </tr>\n",
       "    <tr>\n",
       "      <th>2014.0</th>\n",
       "      <td>1.153249</td>\n",
       "      <td>1.269777</td>\n",
       "    </tr>\n",
       "    <tr>\n",
       "      <th>2015.0</th>\n",
       "      <td>1.151047</td>\n",
       "      <td>1.264940</td>\n",
       "    </tr>\n",
       "    <tr>\n",
       "      <th>2016.0</th>\n",
       "      <td>1.139138</td>\n",
       "      <td>1.292910</td>\n",
       "    </tr>\n",
       "    <tr>\n",
       "      <th>2017.0</th>\n",
       "      <td>0.754364</td>\n",
       "      <td>0.862035</td>\n",
       "    </tr>\n",
       "  </tbody>\n",
       "</table>\n",
       "</div>"
      ],
      "text/plain": [
       "          rscore  hitsRscore\n",
       "year                        \n",
       "2013.0  1.144306    1.259210\n",
       "2014.0  1.153249    1.269777\n",
       "2015.0  1.151047    1.264940\n",
       "2016.0  1.139138    1.292910\n",
       "2017.0  0.754364    0.862035"
      ]
     },
     "execution_count": 78,
     "metadata": {},
     "output_type": "execute_result"
    }
   ],
   "source": [
    "ot.tail()"
   ]
  },
  {
   "cell_type": "code",
   "execution_count": 45,
   "metadata": {
    "collapsed": false
   },
   "outputs": [
    {
     "name": "stdout",
     "output_type": "stream",
     "text": [
      "Got 109 stars\n"
     ]
    },
    {
     "data": {
      "text/html": [
       "<div>\n",
       "<table border=\"1\" class=\"dataframe\">\n",
       "  <thead>\n",
       "    <tr style=\"text-align: right;\">\n",
       "      <th></th>\n",
       "      <th>nsongs</th>\n",
       "      <th>year</th>\n",
       "      <th>rscore</th>\n",
       "      <th>name</th>\n",
       "      <th>mostrep</th>\n",
       "      <th>topscore</th>\n",
       "    </tr>\n",
       "    <tr>\n",
       "      <th>artist</th>\n",
       "      <th></th>\n",
       "      <th></th>\n",
       "      <th></th>\n",
       "      <th></th>\n",
       "      <th></th>\n",
       "      <th></th>\n",
       "    </tr>\n",
       "  </thead>\n",
       "  <tbody>\n",
       "    <tr>\n",
       "      <th>ABBA</th>\n",
       "      <td>20</td>\n",
       "      <td>1977</td>\n",
       "      <td>1.103363</td>\n",
       "      <td>ABBA</td>\n",
       "      <td>Voulez-vous</td>\n",
       "      <td>1.529247</td>\n",
       "    </tr>\n",
       "    <tr>\n",
       "      <th>Aerosmith</th>\n",
       "      <td>29</td>\n",
       "      <td>1989</td>\n",
       "      <td>1.045021</td>\n",
       "      <td>Aerosmith</td>\n",
       "      <td>Rag Doll</td>\n",
       "      <td>1.456969</td>\n",
       "    </tr>\n",
       "    <tr>\n",
       "      <th>Alan Jackson</th>\n",
       "      <td>21</td>\n",
       "      <td>2002</td>\n",
       "      <td>1.015606</td>\n",
       "      <td>Alan Jackson</td>\n",
       "      <td>It Must Be Love</td>\n",
       "      <td>1.548216</td>\n",
       "    </tr>\n",
       "    <tr>\n",
       "      <th>Andy Williams</th>\n",
       "      <td>26</td>\n",
       "      <td>1964</td>\n",
       "      <td>0.832609</td>\n",
       "      <td>Andy Williams</td>\n",
       "      <td>Promise Me, Love</td>\n",
       "      <td>1.448871</td>\n",
       "    </tr>\n",
       "    <tr>\n",
       "      <th>Aretha Franklin</th>\n",
       "      <td>48</td>\n",
       "      <td>1971</td>\n",
       "      <td>1.036882</td>\n",
       "      <td>Aretha Franklin</td>\n",
       "      <td>United Together</td>\n",
       "      <td>1.452170</td>\n",
       "    </tr>\n",
       "  </tbody>\n",
       "</table>\n",
       "</div>"
      ],
      "text/plain": [
       "                 nsongs  year    rscore             name           mostrep  \\\n",
       "artist                                                                       \n",
       "ABBA                 20  1977  1.103363             ABBA       Voulez-vous   \n",
       "Aerosmith            29  1989  1.045021        Aerosmith          Rag Doll   \n",
       "Alan Jackson         21  2002  1.015606     Alan Jackson   It Must Be Love   \n",
       "Andy Williams        26  1964  0.832609    Andy Williams  Promise Me, Love   \n",
       "Aretha Franklin      48  1971  1.036882  Aretha Franklin   United Together   \n",
       "\n",
       "                 topscore  \n",
       "artist                     \n",
       "ABBA             1.529247  \n",
       "Aerosmith        1.456969  \n",
       "Alan Jackson     1.548216  \n",
       "Andy Williams    1.448871  \n",
       "Aretha Franklin  1.452170  "
      ]
     },
     "execution_count": 45,
     "metadata": {},
     "output_type": "execute_result"
    }
   ],
   "source": [
    "# Data for the artist repetitiveness chart\n",
    "min_songs = 20\n",
    "\n",
    "songs_per_artist = lyrs.groupby('artist').size()\n",
    "stars = songs_per_artist[songs_per_artist >= min_songs].to_frame(name='nsongs')\n",
    "istar = stars.index\n",
    "\n",
    "stars['year'] = lyrs.groupby('artist')['year'].median().loc[istar].astype(int)\n",
    "stars['rscore'] = lyrs.groupby('artist')['rscore'].median().loc[istar]\n",
    "stars['name'] = stars.index\n",
    "\n",
    "# Get each artist's most repetitive song. I hate pandas.\n",
    "idm = lyrs.groupby('artist')['rscore'].idxmax()\n",
    "mostrep = lyrs.ix[idm,['artist', 'title', 'rscore']]\n",
    "mos = pd.Series(data=mostrep['title'].values, index=mostrep['artist'].values)\n",
    "moss = pd.Series(data=mostrep['rscore'].values, index=mostrep['artist'].values)\n",
    "stars['mostrep'] = mos[istar]\n",
    "stars['topscore'] = moss[istar]\n",
    "\n",
    "print \"Got {} stars\".format(len(stars))\n",
    "pprint = 1\n",
    "json_str = stars.to_json(None, orient='records', lines=0)\n",
    "if pprint:\n",
    "    json_str = json_str.replace('},', '},\\n  ')\n",
    "with open('stars.json', 'w') as f:\n",
    "    f.write('var artists = ')\n",
    "    f.write(json_str)\n",
    "    f.write(';\\nexport default artists;')\n",
    "os.system('cp stars.json ~/src/lalala/src/js/artist-data.js')\n",
    "stars.head()"
   ]
  },
  {
   "cell_type": "code",
   "execution_count": 40,
   "metadata": {
    "collapsed": false
   },
   "outputs": [
    {
     "data": {
      "text/plain": [
       "str"
      ]
     },
     "execution_count": 40,
     "metadata": {},
     "output_type": "execute_result"
    }
   ],
   "source": [
    "type(json_str)"
   ]
  },
  {
   "cell_type": "code",
   "execution_count": 35,
   "metadata": {
    "collapsed": false
   },
   "outputs": [
    {
     "data": {
      "text/plain": [
       "'Til Tuesday                    Coming Up Close\n",
       "(+44)             When Your Heart Stops Beating\n",
       "10 Years                              Wasteland\n",
       "10,000 Maniacs            Candy Everybody Wants\n",
       "10cc                         Good Morning Judge\n",
       "dtype: object"
      ]
     },
     "execution_count": 35,
     "metadata": {},
     "output_type": "execute_result"
    }
   ],
   "source": [
    "mostrep = lyrs.ix[idm,['artist', 'title']]\n",
    "mos = pd.Series(data=mostrep['title'].values, index=mostrep['artist'].values)"
   ]
  }
 ],
 "metadata": {
  "kernelspec": {
   "display_name": "Python 2",
   "language": "python",
   "name": "python2"
  },
  "language_info": {
   "codemirror_mode": {
    "name": "ipython",
    "version": 2
   },
   "file_extension": ".py",
   "mimetype": "text/x-python",
   "name": "python",
   "nbconvert_exporter": "python",
   "pygments_lexer": "ipython2",
   "version": "2.7.12"
  }
 },
 "nbformat": 4,
 "nbformat_minor": 2
}
