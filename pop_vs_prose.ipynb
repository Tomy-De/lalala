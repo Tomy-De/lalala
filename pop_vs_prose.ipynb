{
 "cells": [
  {
   "cell_type": "code",
   "execution_count": 1,
   "metadata": {
    "collapsed": true,
    "deletable": true,
    "editable": true
   },
   "outputs": [],
   "source": [
    "%matplotlib inline\n",
    "from __future__ import division\n",
    "import os\n",
    "import pandas as pd\n",
    "import numpy as np\n",
    "from matplotlib import pyplot as plt\n",
    "\n",
    "import pop_prose_splits as pps\n",
    "import notebook_helpers\n",
    "import common\n",
    "\n",
    "# Note: should have run pop_prose_splits.py before running this notebook\n",
    "\n",
    "FS = (10, 7)\n",
    "\n",
    "proses = pps.PROSE_SOURCES\n",
    "n = pps.N_SONGS"
   ]
  },
  {
   "cell_type": "code",
   "execution_count": 4,
   "metadata": {
    "collapsed": false,
    "deletable": true,
    "editable": true
   },
   "outputs": [
    {
     "name": "stdout",
     "output_type": "stream",
     "text": [
      "Loaded 100 recent songs and corresponding samples from prose sources: ['poynton', 'comments', 'hansard']\n"
     ]
    },
    {
     "data": {
      "text/html": [
       "<div>\n",
       "<table border=\"1\" class=\"dataframe\">\n",
       "  <thead>\n",
       "    <tr style=\"text-align: right;\">\n",
       "      <th></th>\n",
       "      <th>pop</th>\n",
       "      <th>poynton</th>\n",
       "      <th>comments</th>\n",
       "      <th>hansard</th>\n",
       "    </tr>\n",
       "  </thead>\n",
       "  <tbody>\n",
       "    <tr>\n",
       "      <th>0</th>\n",
       "      <td>3.250000</td>\n",
       "      <td>1.915706</td>\n",
       "      <td>1.804465</td>\n",
       "      <td>2.206151</td>\n",
       "    </tr>\n",
       "    <tr>\n",
       "      <th>1</th>\n",
       "      <td>3.142114</td>\n",
       "      <td>1.884073</td>\n",
       "      <td>1.854613</td>\n",
       "      <td>1.913043</td>\n",
       "    </tr>\n",
       "    <tr>\n",
       "      <th>2</th>\n",
       "      <td>3.607492</td>\n",
       "      <td>1.907090</td>\n",
       "      <td>1.844725</td>\n",
       "      <td>2.176417</td>\n",
       "    </tr>\n",
       "  </tbody>\n",
       "</table>\n",
       "</div>"
      ],
      "text/plain": [
       "        pop   poynton  comments   hansard\n",
       "0  3.250000  1.915706  1.804465  2.206151\n",
       "1  3.142114  1.884073  1.854613  1.913043\n",
       "2  3.607492  1.907090  1.844725  2.176417"
      ]
     },
     "execution_count": 4,
     "metadata": {},
     "output_type": "execute_result"
    }
   ],
   "source": [
    "pop_ratios = []\n",
    "keys = pps.get_recent_keys()\n",
    "for k in keys:\n",
    "    raw, comp = common.get_sizes(k)\n",
    "    pop_ratios.append(raw/comp)\n",
    "\n",
    "prose_ratios = np.zeros( (len(pop_ratios), len(proses)) )\n",
    "for i, src in enumerate(proses):\n",
    "    for j in range(len(pop_ratios)):\n",
    "        path = os.path.join('prose', 'fragments', src, str(j))\n",
    "        raw = os.path.getsize(path)\n",
    "        comp = os.path.getsize(path+'.gz')\n",
    "        prose_ratios[j,i] = raw/comp\n",
    "\n",
    "ratios = np.concatenate([\n",
    "    np.asarray(pop_ratios).reshape(-1,1), \n",
    "    prose_ratios\n",
    "], axis=1)\n",
    "df = pd.DataFrame(ratios, columns=['pop']+proses)\n",
    "print \"Loaded {} recent songs and corresponding samples from prose sources: {}\".format(\n",
    "    len(df), proses\n",
    ")\n",
    "df.head(3)"
   ]
  },
  {
   "cell_type": "code",
   "execution_count": 5,
   "metadata": {
    "collapsed": false,
    "deletable": true,
    "editable": true
   },
   "outputs": [
    {
     "data": {
      "text/plain": [
       "<matplotlib.text.Text at 0x7fd2a11a7dd0>"
      ]
     },
     "execution_count": 5,
     "metadata": {},
     "output_type": "execute_result"
    },
    {
     "data": {
      "image/png": "[encoded data removed]",
      "text/plain": [
       "<matplotlib.figure.Figure at 0x7fd2a06c51d0>"
      ]
     },
     "metadata": {},
     "output_type": "display_data"
    }
   ],
   "source": [
    "ax = df.plot.box(figsize=FS, whis=3)\n",
    "ax.set_ylabel('Compression ratio');"
   ]
  },
  {
   "cell_type": "code",
   "execution_count": 23,
   "metadata": {
    "collapsed": false,
    "deletable": true,
    "editable": true
   },
   "outputs": [
    {
     "data": {
      "image/png": "[encoded data removed]",
      "text/plain": [
       "<matplotlib.figure.Figure at 0x7fd2983e48d0>"
      ]
     },
     "metadata": {},
     "output_type": "display_data"
    }
   ],
   "source": [
    "srcs = ['pop'] + proses\n",
    "ratios = []\n",
    "ticks = range(len(srcs))\n",
    "for src in srcs:\n",
    "    ratios.append(df[src].mean())\n",
    "fig, ax = plt.subplots(figsize=FS)\n",
    "ax.bar(range(len(srcs)), ratios, tick_label=['Pop Lyrics', 'Poynton', 'Reddit', 'Hansard']);\n",
    "ax.set_ylim(bottom=1);\n",
    "ax.set_ylabel('Avg. Compression Ratio')\n",
    "ax.grid(axis='y');"
   ]
  }
 ],
 "metadata": {
  "kernelspec": {
   "display_name": "Python 2",
   "language": "python",
   "name": "python2"
  },
  "language_info": {
   "codemirror_mode": {
    "name": "ipython",
    "version": 2
   },
   "file_extension": ".py",
   "mimetype": "text/x-python",
   "name": "python",
   "nbconvert_exporter": "python",
   "pygments_lexer": "ipython2",
   "version": "2.7.12"
  }
 },
 "nbformat": 4,
 "nbformat_minor": 2
}
